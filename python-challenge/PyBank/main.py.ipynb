{
 "cells": [
  {
   "cell_type": "code",
   "execution_count": 33,
   "metadata": {},
   "outputs": [
    {
     "name": "stdout",
     "output_type": "stream",
     "text": [
      "{'Date': [], 'Revenue': []}\n",
      "716804\n"
     ]
    }
   ],
   "source": [
    "\n",
    "import csv\n",
    "import pandas as pd\n",
    "\n",
    "#create variable to store combined values\n",
    "dic = {\"Date\": [], \"Revenue\": []}\n",
    "print(dic)\n",
    "#open documents and append to dictionary dic\n",
    "csv_path1 = \"budget_data_1.csv\"\n",
    "csv_path2 = \"budget_data_2.csv\"\n",
    "\n",
    "with open(csv_path1, newline='') as csvfile:\n",
    "    csvreader1 = csv.reader(csvfile, delimiter=',')\n",
    "    next(csvreader1, None)\n",
    "    for row in csvreader1: \n",
    "        dic[\"Date\"].append(row[0])\n",
    "        dic[\"Revenue\"].append(row[1])\n",
    "with open(csv_path2, newline='') as csvfile:\n",
    "    csvreader2 = csv.reader(csvfile, delimiter=',')\n",
    "    next(csvreader2, None)\n",
    "    for rows in csvreader2:\n",
    "        dic[\"Date\"].append(rows[0])\n",
    "        dic[\"Revenue\"].append(rows[1])\n",
    "\n",
    "    \n",
    "df_dic = pd.DataFrame(dic)\n",
    "clean_dic = df_dic.drop_duplicates([\"Date\"], keep=False)\n",
    "\n",
    "Months = clean_dic[\"Date\"].index[-1] + 1\n",
    "\n",
    "num_dic = pd.to_numeric(clean_dic[\"Revenue\"])\n",
    "x = pd.DataFrame(num_dic)\n",
    "Total_Revenue = x[\"Revenue\"].sum()\n",
    "Total_Change = ((x[\"Revenue\"][0])- (x[\"Revenue\"][126]))\n",
    "print(Total_Change)\n",
    "max = x[\"Revenue\"].max()\n",
    "min = x[\"Revenue\"].min()\n",
    "\n",
    "#Finalize Outputs for report\n",
    "Output1 = \"Total Months: \" + str(Months)\n",
    "Output2 = \"Total Revenue: \" + str(Total_Revenue)\n",
    "Output3 = \"Average Revenue Change: \" + str(Total_Change/Months)\n",
    "Output4 = \"Greatest Increase in Revenue: $\" + str(max)\n",
    "Output5 = \"Greatest Decrease in Revenue: $\" + str(min)\n",
    "\n",
    "#Write outfile\n",
    "Output = \"financial_analysis_output.csv\"\n",
    "with open(Output, \"w\", newline=\"\") as datafile:\n",
    "    writer = csv.writer(datafile)\n",
    "    writer.writerow([Output1])\n",
    "    writer.writerow([Output2])\n",
    "    writer.writerow([Output3])\n",
    "    writer.writerow([Output4])\n",
    "    writer.writerow([Output5])\n",
    "    writer.writerow(\"Final\")\n",
    "    \n"
   ]
  },
  {
   "cell_type": "code",
   "execution_count": 148,
   "metadata": {},
   "outputs": [
    {
     "data": {
      "text/plain": [
       "0    1154293\n",
       "1     885773\n",
       "2    -448704\n",
       "3     563679\n",
       "4     555394\n",
       "Name: Revenue, dtype: int64"
      ]
     },
     "execution_count": 148,
     "metadata": {},
     "output_type": "execute_result"
    }
   ],
   "source": []
  }
 ],
 "metadata": {
  "kernelspec": {
   "display_name": "Python [conda env:PythonData]",
   "language": "python",
   "name": "conda-env-PythonData-py"
  },
  "language_info": {
   "codemirror_mode": {
    "name": "ipython",
    "version": 3
   },
   "file_extension": ".py",
   "mimetype": "text/x-python",
   "name": "python",
   "nbconvert_exporter": "python",
   "pygments_lexer": "ipython3",
   "version": "3.6.3"
  }
 },
 "nbformat": 4,
 "nbformat_minor": 2
}
