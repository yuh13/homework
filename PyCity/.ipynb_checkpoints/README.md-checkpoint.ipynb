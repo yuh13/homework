{
 "cells": [
  {
   "cell_type": "markdown",
   "metadata": {},
   "source": [
    "import pandas as pd\n",
    "import numpy as np\n",
    "\n",
    "csv_schools = \"schools_complete.csv\"\n",
    "csv_students = \"students_complete.csv\"\n",
    "\n",
    "schools_pd = pd.read_csv(csv_schools)\n",
    "students_pd = pd.read_csv(csv_students)"
   ]
  },
  {
   "cell_type": "markdown",
   "metadata": {
    "scrolled": true
   },
   "source": [
    "#Totals\n",
    "total_schools = schools_pd[\"School ID\"].count()\n",
    "total_students = students_pd[\"Student ID\"].count()\n",
    "total_budget = '${0:,.2f}'.format(schools_pd['budget'].sum())\n",
    "\n",
    "#Average scores\n",
    "avg_math = round(students_pd.math_score.mean(),3)\n",
    "avg_reading = round(students_pd.reading_score.mean(),3)\n",
    "\n",
    "\n",
    "#Passing score set to >= 70. Count of passing students\n",
    "total_passing_math = students_pd[students_pd.math_score >= 70]['math_score'].count()\n",
    "total_passing_reading = students_pd[students_pd.reading_score >= 70]['reading_score'].count()\n",
    "\n",
    "#Convert to percent by total passing/total students\n",
    "perc_math = round(total_passing_math/total_students*100,3)\n",
    "perc_reading = round(total_passing_reading/total_students*100,3)\n",
    "perc_passing = (perc_math + perc_reading)/2\n",
    "\n",
    "#Generate first table with summary variables\n",
    "District_Summary = pd.DataFrame({\n",
    "                            \"Total Schools\": [total_schools],\n",
    "                            \"Total Students\": [total_students],\n",
    "                            \"Total Budget\": [total_budget],\n",
    "                            \"Avg Math Score\": [avg_math],\n",
    "                            \"Avg Reading Score\": [avg_reading],\n",
    "                            \"% Passing Math\": [perc_math],\n",
    "                            \"% Passing Reading\": [perc_reading],\n",
    "                            \"% Overall Passing\": [perc_passing],\n",
    "\n",
    "})\n",
    "\n",
    "#Rearrange columns\n",
    "District_Summary = District_Summary[[\"Total Schools\", \"Total Students\", \"Total Budget\", \n",
    "                                     \"Avg Math Score\", \"Avg Reading Score\", \n",
    "                                     \"% Passing Math\", \"% Passing Reading\", \"% Overall Passing\"]]\n",
    "District_Summary"
   ]
  },
  {
   "cell_type": "markdown",
   "metadata": {
    "scrolled": true
   },
   "source": [
    "#sort schools_pd and reset index to school name\n",
    "schools_pd = schools_pd.rename(columns={'name': 'school'})\n",
    "schools_sort = schools_pd.sort_values(['school']).set_index('school')\n",
    "# .reset_index(inplace=False)\n",
    "\n",
    "#Calculate budget per student by budget divided by size\n",
    "per_budget = schools_sort['budget']/schools_sort['size']\n",
    "\n",
    "#Group students by 'school' to find means\n",
    "#ensure to merge in sorted alphabetical order by school\n",
    "grouped_scores = students_pd.groupby(['school']).mean()\n",
    "school_math = grouped_scores['math_score']\n",
    "school_reading = grouped_scores['reading_score']\n",
    "\n",
    "#Filter students_pd by scores that are passing. Passing defined as >= 70\n",
    "students_passing_math = students_pd[students_pd.math_score >= 70]\n",
    "students_passing_reading = students_pd[students_pd.reading_score >= 70]\n",
    "\n",
    "#Count of students who pass math or reading by school\n",
    "passing_math = students_passing_math.groupby(['school']).count()\n",
    "passing_reading = students_passing_reading.groupby(['school']).count()\n",
    "\n",
    "#Percent of students who passed divided by number of size of each school\n",
    "perc_passing_math = round(passing_math['math_score']/schools_sort['size']*100,3)\n",
    "perc_passing_reading = round(passing_reading['reading_score']/schools_sort['size']*100,3)\n",
    "perc_passing_school = (perc_passing_math + perc_passing_reading)/2 \n",
    "\n",
    "#Create school summary data frame and rename/reorganize columns\n",
    "School_summary = pd.DataFrame({\n",
    "                            \"% Passing Math\": perc_passing_math,\n",
    "                            \"% Passing Reading\": perc_passing_reading,\n",
    "                            \"School Type\": schools_sort['type'],\n",
    "                            \"Total Students\": schools_sort['size'],\n",
    "                            \"Total School Budget\": schools_sort['budget'],\n",
    "                            \"Per Student Budget\": per_budget,\n",
    "                            \"Average Math Score\": school_math,\n",
    "                            \"Average Reading Score\": school_reading,\n",
    "                            \"% Passing Math\": perc_passing_math,\n",
    "                            \"% Passing Reading\": perc_passing_reading,\n",
    "                            \"Overall Passing Rate\": perc_passing_school,\n",
    "})\n",
    "School_summary.reset_index(inplace=True)\n",
    "School_summary = School_summary.rename(columns={'school': 'School Name'})\n",
    "School_summary['Total School Budget'] = School_summary['Total School Budget'].map('${:,.2f}'.format)\n",
    "School_summary['Per Student Budget'] = School_summary[\"Per Student Budget\"].map('${:,.2f}'.format)\n",
    "\n",
    "School_summary = School_summary[[\"School Name\", \"School Type\", \"Total Students\", \"Total School Budget\", \n",
    "                                     \"Per Student Budget\", \"Average Math Score\", \"Average Reading Score\", \n",
    "                                     \"% Passing Math\", \"% Passing Reading\", \"Overall Passing Rate\"]]\n",
    "School_summary.head()\n",
    "\n"
   ]
  },
  {
   "cell_type": "markdown",
   "metadata": {},
   "source": [
    "#Sort by ascending Overall Passing Rate and only return top 5\n",
    "Bottom_sort = School_summary.sort_values(\"Overall Passing Rate\").reset_index().drop('index', axis=1)\n",
    "Bottom_schools = Bottom_sort.iloc[:5]\n",
    "Bottom_schools"
   ]
  },
  {
   "cell_type": "markdown",
   "metadata": {},
   "source": [
    "#Sort by descending Overall Passing Rate and only return top 5\n",
    "Top_sort = School_summary.sort_values(\"Overall Passing Rate\", ascending=False).reset_index().drop('index', axis=1)\n",
    "Top_schools = Top_sort.iloc[:5]\n",
    "Top_schools"
   ]
  },
  {
   "cell_type": "markdown",
   "metadata": {},
   "source": [
    "#get sum of scores per grade per school\n",
    "by_grade = students_pd.groupby(['school','grade'])\n",
    "total_by_grade = by_grade.sum()\n",
    "#get count of students per grade per school\n",
    "count_by_grade = by_grade[\"Student ID\"].count()\n",
    "\n",
    "#divide sum of scores by students per grade per school\n",
    "reading_by_grade = pd.DataFrame(total_by_grade['reading_score']/count_by_grade)\n",
    "math_by_grade = pd.DataFrame(total_by_grade['math_score']/count_by_grade)\n",
    "\n",
    "#reset key IDs to create pivot of tables\n",
    "\n",
    "Math_summary = math_by_grade.reset_index(inplace=False)\n",
    "Math_summary = Math_summary.rename(columns={0:'Avg Math'})\n",
    "Math_summary = Math_summary.pivot(index='school', columns ='grade', values='Avg Math')\n",
    "Math_summary.head()\n"
   ]
  },
  {
   "cell_type": "markdown",
   "metadata": {},
   "source": [
    "#reset key IDs to create pivot of tables\n",
    "Reading_summary = reading_by_grade.reset_index(inplace=False).rename(columns={0:'Avg Reading'})\n",
    "Reading_summary = Reading_summary.pivot(index='school', columns ='grade', values='Avg Reading')\n",
    "Reading_summary.head()"
   ]
  },
  {
   "cell_type": "markdown",
   "metadata": {},
   "source": [
    "#bins of 4 groups...find max and min of budget per student\n",
    "max_budget = per_budget.max()\n",
    "min_budget = per_budget.min()\n",
    "\n",
    "#create bins encompassing 587 to 655 with error\n",
    "bin_budget = [0, 604, 621, 638, 1000]\n",
    "bin_names = ['< $603', '$604-620', '$621-637', '> $638']\n",
    "\n",
    "#add budget bins to summary table\n",
    "bin_budget_df = pd.DataFrame(per_budget)\n",
    "budget_range = pd.cut(bin_budget_df[0], bin_budget, labels=bin_names).reset_index(drop=True)\n",
    "School_summary['Spending Range (Per Student)'] = budget_range\n",
    "\n",
    "#Group by bins\n",
    "Spending_group = School_summary.groupby('Spending Range (Per Student)')\n",
    "\n",
    "#Sum and divide by count to get average\n",
    "Spending_group_totals = Spending_group.sum()\n",
    "Spending_group_number = Spending_group.count()\n",
    "Spending_summary = Spending_group_totals/Spending_group_number\n",
    "\n",
    "#Generate final spending table\n",
    "Spending_summary = Spending_summary[['Average Math Score', \"Average Reading Score\", \n",
    "                                     '% Passing Math', '% Passing Reading', 'Overall Passing Rate']]\n",
    "Spending_summary.head()"
   ]
  },
  {
   "cell_type": "markdown",
   "metadata": {},
   "source": [
    "#bin of 3 groups... find min and max for buckets for small, medium, large\n",
    "max_size = School_summary['Total Students'].max()\n",
    "min_size = School_summary['Total Students'].min()\n",
    "\n",
    "#create bins from sizes [0-1899, 1900-3399, 3400 - 5000]\n",
    "bin_size = [0, 1900, 3400, 5000]\n",
    "bin_names = ['Small', 'Medium', 'Large']\n",
    "\n",
    "#add size to summary table\n",
    "bin_size_df = School_summary['Total Students']\n",
    "size_range = pd.cut(bin_size_df, bin_size, labels=bin_names)\n",
    "School_summary['School Size'] = size_range\n",
    "\n",
    "#group by size\n",
    "Size_group = School_summary.groupby('School Size')\n",
    "\n",
    "#Sum and divide by count to get average\n",
    "Size_group_totals = Size_group.sum()\n",
    "Size_group_number = Size_group.count()\n",
    "Size_summary = Size_group_totals/Size_group_number\n",
    "\n",
    "#Generate final spending table\n",
    "Size_summary = Size_summary[['Average Math Score', \"Average Reading Score\", \n",
    "                                     '% Passing Math', '% Passing Reading', 'Overall Passing Rate']]\n",
    "Size_summary.head()"
   ]
  },
  {
   "cell_type": "markdown",
   "metadata": {},
   "source": [
    "#Group by School Type\n",
    "Type_group = School_summary.groupby('School Type')\n",
    "\n",
    "#Sum and divide by count to get average\n",
    "Type_group_totals = Type_group.sum()\n",
    "Type_group_number = Type_group.count()\n",
    "Type_summary = Type_group_totals/Type_group_number\n",
    "\n",
    "#Generate final spending table\n",
    "Type_summary = Type_summary[['Average Math Score', \"Average Reading Score\", \n",
    "                           '% Passing Math', '% Passing Reading', 'Overall Passing Rate']]\n",
    "Type_summary.head()"
   ]
  }
 ],
 "metadata": {
  "kernelspec": {
   "display_name": "Python [conda env:PythonData]",
   "language": "python",
   "name": "conda-env-PythonData-py"
  },
  "language_info": {
   "codemirror_mode": {
    "name": "ipython",
    "version": 3
   },
   "file_extension": ".py",
   "mimetype": "text/x-python",
   "name": "python",
   "nbconvert_exporter": "python",
   "pygments_lexer": "ipython3",
   "version": "3.6.3"
  }
 },
 "nbformat": 4,
 "nbformat_minor": 2
}
